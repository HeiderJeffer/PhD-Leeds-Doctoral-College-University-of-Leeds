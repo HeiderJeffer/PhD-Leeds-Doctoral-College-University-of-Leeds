{
 "cells": [
  {
   "cell_type": "code",
   "execution_count": 1,
   "id": "eba463a0-b726-4fad-aef6-240272161f5f",
   "metadata": {},
   "outputs": [
    {
     "name": "stdout",
     "output_type": "stream",
     "text": [
      "t-statistic = 3.796444215031751\n",
      "p-value = 0.0011318757310725038\n"
     ]
    }
   ],
   "source": [
    "# Quantitative Data Analysis with Python \n",
    "# Leeds Doctoral College - University of Leeds\n",
    "# By Heider Jeffer\n",
    "# June 20, 2024\n",
    "\n",
    "import numpy as np  \n",
    "from scipy import stats  \n",
    "\n",
    "# Population Mean \n",
    "mu = 10\n",
    "\n",
    "# Sample Size\n",
    "N1 = 21\n",
    "\n",
    "# Degrees of freedom  \n",
    "dof = N1 - 1\n",
    "\n",
    "# Generate a random sample with mean = 11 and standard deviation = 1\n",
    "x = np.random.randn(N1) + 11\n",
    "\n",
    "# Using the Stats library, compute t-statistic and p-value\n",
    "t_stat, p_val = stats.ttest_1samp(a=x, popmean = mu)\n",
    "print(\"t-statistic = \" + str(t_stat))  \n",
    "print(\"p-value = \" + str(p_val)) \n"
   ]
  }
 ],
 "metadata": {
  "kernelspec": {
   "display_name": "Python 3 (ipykernel)",
   "language": "python",
   "name": "python3"
  },
  "language_info": {
   "codemirror_mode": {
    "name": "ipython",
    "version": 3
   },
   "file_extension": ".py",
   "mimetype": "text/x-python",
   "name": "python",
   "nbconvert_exporter": "python",
   "pygments_lexer": "ipython3",
   "version": "3.11.9"
  }
 },
 "nbformat": 4,
 "nbformat_minor": 5
}
