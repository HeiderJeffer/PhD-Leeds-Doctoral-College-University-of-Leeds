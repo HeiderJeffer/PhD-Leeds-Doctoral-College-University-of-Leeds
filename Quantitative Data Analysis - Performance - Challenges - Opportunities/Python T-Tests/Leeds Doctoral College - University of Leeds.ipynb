{
 "cells": [
  {
   "cell_type": "code",
   "execution_count": 2,
   "id": "eba463a0-b726-4fad-aef6-240272161f5f",
   "metadata": {},
   "outputs": [
    {
     "name": "stdout",
     "output_type": "stream",
     "text": [
      "t-statistic = 3.806834533835485\n",
      "p-value = 0.0011047641393841622\n"
     ]
    }
   ],
   "source": [
    "# Leeds Doctoral College - University of Leeds\n",
    "# Quantitative Data Analysis with Python \n",
    "# By Heider Jeffer\n",
    "# June 20, 2024\n",
    "\n",
    "# One-sample t-test example in Python\n",
    "\n",
    "import numpy as np  \n",
    "from scipy import stats  \n",
    "\n",
    "# Population Mean \n",
    "mu = 10\n",
    "\n",
    "# Sample Size\n",
    "N1 = 21\n",
    "\n",
    "# Degrees of freedom  \n",
    "dof = N1 - 1\n",
    "\n",
    "# Generate a random sample with mean = 11 and standard deviation = 1\n",
    "x = np.random.randn(N1) + 11\n",
    "\n",
    "# Using the Stats library, compute t-statistic and p-value\n",
    "t_stat, p_val = stats.ttest_1samp(a=x, popmean = mu)\n",
    "print(\"t-statistic = \" + str(t_stat))  \n",
    "print(\"p-value = \" + str(p_val)) \n"
   ]
  },
  {
   "cell_type": "code",
   "execution_count": 3,
   "id": "2a70fde2-ca57-4842-beaa-f2e7d8cbb1bc",
   "metadata": {},
   "outputs": [
    {
     "name": "stdout",
     "output_type": "stream",
     "text": [
      "t-statistic = 3.8068345338354854\n",
      "p-value = 0.0011047641393842067\n"
     ]
    }
   ],
   "source": [
    "# A different approach\n",
    "# 1. compute the sample mean (x_bar)\n",
    "# 2. ompute the sample standard deviation with the degree of freedom of one (it represents the standard deviation of the sample).\n",
    "# 3. Compute the standard error \n",
    "# 4. Use the one-sample t-statistic formula above\n",
    "# 5. Compute the p-value to establish the significance of the t-statistic.\n",
    "\n",
    "\n",
    "# Sample Mean\n",
    "x_bar = x.mean()\n",
    "\n",
    "# Standard Deviation  \n",
    "std = np.std(x, ddof=1)\n",
    "\n",
    "# Standard Error\n",
    "ste = std/np.sqrt(N1)\n",
    "\n",
    "# Calculating the T-Statistics  \n",
    "t_stat = (x_bar - mu) / ste\n",
    "\n",
    "# p-value of the t-statistic\n",
    "p_val = 2*(1 - stats.t.cdf(abs(t_stat), df = dof))\n",
    "print(\"t-statistic = \" + str(t_stat))  \n",
    "print(\"p-value = \" + str(p_val)) "
   ]
  },
  {
   "cell_type": "code",
   "execution_count": 4,
   "id": "d7dd97ab-4980-46c0-9be9-dc8647882769",
   "metadata": {},
   "outputs": [
    {
     "name": "stdout",
     "output_type": "stream",
     "text": [
      "t-statistic = 4.864444171753306\n",
      "p-value = 1.5067062040159094e-05\n"
     ]
    }
   ],
   "source": [
    "# Two-sample t-test example in Python\n",
    "# Def.\n",
    "# X1= first sample mean\n",
    "# X2 = second sample mean\n",
    "# S1 = first sample standard deviation\n",
    "# S2 = second sample standard deviation\n",
    "# N1 = first sample size\n",
    "# N2 = second sample siz\n",
    "\n",
    "# Sample Sizes\n",
    "N1, N2 = 21, 25\n",
    "\n",
    "# Degrees of freedom  \n",
    "dof = min(N1,N2) - 1\n",
    "\n",
    "# Gaussian distributed data with mean = 10.5 and var = 1  \n",
    "x = np.random.randn(N1) + 10.5\n",
    "\n",
    "# Gaussian distributed data with mean = 9.5 and var = 1  \n",
    "y = np.random.randn(N2) + 9.5\n",
    "\n",
    "## Using the internal function from SciPy Package  \n",
    "t_stat, p_val = stats.ttest_ind(x, y)  \n",
    "print(\"t-statistic = \" + str(t_stat))  \n",
    "print(\"p-value = \" + str(p_val))"
   ]
  },
  {
   "cell_type": "code",
   "execution_count": 5,
   "id": "1844c395-0b80-4386-93d9-a678cdd4306a",
   "metadata": {},
   "outputs": [
    {
     "name": "stdout",
     "output_type": "stream",
     "text": [
      "t-statistic = 3.6414609079714952\n",
      "p-value = 0.001296582478322071\n"
     ]
    }
   ],
   "source": [
    "# Perform Paired t-test in Python\n",
    "\n",
    "# Sample Sizes\n",
    "N = 25\n",
    "\n",
    "# Degrees of freedom  \n",
    "dof = N - 1\n",
    "\n",
    "# Gaussian distributed data with mean = 10.5 and var = 1  \n",
    "x = np.random.randn(N) + 10.5\n",
    "\n",
    "# Gaussian distributed data with mean = 9.9 and var = 1  \n",
    "y = np.random.randn(N) + 9.9\n",
    "\n",
    "t_stat, p_val = stats.ttest_rel(x,y)\n",
    "print(\"t-statistic = \" + str(t_stat))  \n",
    "print(\"p-value = \" + str(p_val))"
   ]
  },
  {
   "cell_type": "code",
   "execution_count": 6,
   "id": "7b94dadc-59a8-4734-9b6c-c4a4f17792e2",
   "metadata": {},
   "outputs": [
    {
     "name": "stdout",
     "output_type": "stream",
     "text": [
      "t-statistic = -0.03672047725192544\n",
      "p-value = 0.9709688878873393\n"
     ]
    }
   ],
   "source": [
    "# Welch’s t-test example in Python\n",
    "\n",
    "# Sample Sizes\n",
    "N1, N2 = 21, 25\n",
    "\n",
    "# Degrees of freedom  \n",
    "dof = min(N1,N2) - 1\n",
    "\n",
    "# Gaussian distributed data with mean = 9.9 and var = 1  \n",
    "x = np.random.randn(N1) + 9.9\n",
    "\n",
    "# Gaussian distributed data with mean = 10 and var = 3\n",
    "y = 3*np.random.randn(N2) + 10\n",
    "\n",
    "## Using SciPy Package  \n",
    "t_stat, p_val = stats.ttest_ind(x, y, equal_var = False) \n",
    "print(\"t-statistic = \" + str(t_stat))  \n",
    "print(\"p-value = \" + str(p_val))"
   ]
  }
 ],
 "metadata": {
  "kernelspec": {
   "display_name": "Python 3 (ipykernel)",
   "language": "python",
   "name": "python3"
  },
  "language_info": {
   "codemirror_mode": {
    "name": "ipython",
    "version": 3
   },
   "file_extension": ".py",
   "mimetype": "text/x-python",
   "name": "python",
   "nbconvert_exporter": "python",
   "pygments_lexer": "ipython3",
   "version": "3.11.9"
  }
 },
 "nbformat": 4,
 "nbformat_minor": 5
}
